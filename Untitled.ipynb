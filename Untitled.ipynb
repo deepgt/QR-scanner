{
 "cells": [
  {
   "cell_type": "code",
   "execution_count": 1,
   "id": "18f9893e",
   "metadata": {},
   "outputs": [],
   "source": [
    "from __future__ import print_function\n",
    "import pyzbar.pyzbar as pyzbar\n",
    "import numpy as np\n",
    "import cv2 "
   ]
  },
  {
   "cell_type": "code",
   "execution_count": 6,
   "id": "072b93e0",
   "metadata": {},
   "outputs": [
    {
     "name": "stdout",
     "output_type": "stream",
     "text": [
      "Type :  QRCODE\n",
      "Data :  b'This is a QR code for testing purpose' \n",
      "\n"
     ]
    }
   ],
   "source": [
    "def decode(im) :\n",
    "    # Find barcode and QRcodes\n",
    "    decodedObjects = pyzbar.decode(im)\n",
    "    \n",
    "    # print result\n",
    "    for obj in decodedObjects:\n",
    "        print('Type : ', obj.type)\n",
    "        print('Data : ', obj.data,'\\n')\n",
    "    \n",
    "    return decodedObjects\n",
    "\n",
    "# Display barcode and QRcode location\n",
    "def display(im , decodedObjects):\n",
    "    \n",
    "    #Loop over all decoded objects\n",
    "    for decodedObject in decodedObjects:\n",
    "        points = decodedObject.polygon\n",
    "        \n",
    "    # If the points do not form a quad, find convex hull\n",
    "    if len(points) > 4 :\n",
    "        hull = cv2.convexHull(np.array([point for point in points], dtype=np.float32))\n",
    "        hull = list(map(tuple, np.squeeze(hull)))\n",
    "    \n",
    "    else:\n",
    "        hull = points;\n",
    "        \n",
    "    #number of point in the convex hull\n",
    "    n = len(hull)\n",
    "    \n",
    "    #Draw the convext hull\n",
    "    for j in range(0,n):\n",
    "        cv2.line(im, hull[j], hull[(j+1) % n], (255,0,0), 3)\n",
    "        \n",
    "    # Display results\n",
    "    cv2.imshow(\"Results\", im);\n",
    "    cv2.waitKey(0);\n",
    "    \n",
    "# Main\n",
    "if __name__ == '__main__':\n",
    "    \n",
    "    #Read image\n",
    "    im = cv2.imread('qrcode.jpg')\n",
    "    \n",
    "    decodedObjects = decode(im)\n",
    "    display(im, decodedObjects)\n"
   ]
  },
  {
   "cell_type": "code",
   "execution_count": null,
   "id": "8b7286a3",
   "metadata": {},
   "outputs": [],
   "source": []
  },
  {
   "cell_type": "code",
   "execution_count": null,
   "id": "46bb0aef",
   "metadata": {},
   "outputs": [],
   "source": []
  }
 ],
 "metadata": {
  "kernelspec": {
   "display_name": "Python 3 (ipykernel)",
   "language": "python",
   "name": "python3"
  },
  "language_info": {
   "codemirror_mode": {
    "name": "ipython",
    "version": 3
   },
   "file_extension": ".py",
   "mimetype": "text/x-python",
   "name": "python",
   "nbconvert_exporter": "python",
   "pygments_lexer": "ipython3",
   "version": "3.9.6"
  }
 },
 "nbformat": 4,
 "nbformat_minor": 5
}
